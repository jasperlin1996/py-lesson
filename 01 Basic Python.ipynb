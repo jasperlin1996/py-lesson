{
 "cells": [
  {
   "cell_type": "markdown",
   "metadata": {},
   "source": [
    "Python\n",
    "=========\n",
    "Input:\n",
    "----\n",
    "    var = input()\n",
    "\n",
    "Output:\n",
    "----\n",
    "    print()"
   ]
  },
  {
   "cell_type": "code",
   "execution_count": 4,
   "metadata": {},
   "outputs": [
    {
     "name": "stdout",
     "output_type": "stream",
     "text": [
      "Hello world!\n"
     ]
    }
   ],
   "source": [
    "print(\"Hello world!\")"
   ]
  },
  {
   "cell_type": "markdown",
   "metadata": {},
   "source": [
    "type, dir, help\n",
    "------"
   ]
  },
  {
   "cell_type": "markdown",
   "metadata": {},
   "source": [
    "數值型態（Numeric type）\n",
    "----\n",
    "    int\n",
    "    long (long type does not exist in python 3.x)\n",
    "    float\n",
    "    bool\n",
    "    complex"
   ]
  },
  {
   "cell_type": "markdown",
   "metadata": {},
   "source": [
    "### Integers\n",
    "##### Operators\n",
    "|Operation|Symbol|Example|Result|\n",
    "| --- | --- | --- | --- |\n",
    "|Addition|+|28+10|38|\n",
    "|Subtraction|-|28-10|18|\n",
    "|Multiplication|\\*|28\\*10|280|\n",
    "|Division|//|28//10|2|\n",
    "|Modulus|%|28%10|8|\n",
    "|Exponent|\\*\\*|28\\*\\*10|296196766695424|\n",
    "\n",
    "> In Python 3, / always performs floating-point\n",
    "> division and // always performs integer division.\n",
    "\n",
    "##### Base\n",
    "\n",
    "|Base|Example|\n",
    "| --- | --- |\n",
    "|binary|0b0101|\n",
    "|octonary|0o63|\n",
    "|hexadecimal|0xA12|\n",
    "\n",
    "##### Base Transfer\n",
    "\n",
    "    oct(34) -> 0o42\n",
    "    hex(34) -> 0x22"
   ]
  },
  {
   "attachments": {
    "image.png": {
     "image/png": "[encoded data removed]"
    }
   },
   "cell_type": "markdown",
   "metadata": {},
   "source": [
    "* Print an integer number and a string together.\n",
    "\n",
    "        print(\"My number is \" + str(3))\n",
    "        print(\"My number is %d\" % 3)\n",
    "        print(\"My number is {}\".format(3))\n",
    "        \n",
    "* The precedence levels of integer operators: all arithmetic operators other than \\*\\* are left-associative\n",
    "\n",
    "![image.png](attachment:image.png)"
   ]
  },
  {
   "cell_type": "code",
   "execution_count": 2,
   "metadata": {},
   "outputs": [
    {
     "name": "stdout",
     "output_type": "stream",
     "text": [
      "My number is 3\n",
      "My number is 3\n",
      "My number is 3\n"
     ]
    }
   ],
   "source": [
    "print(\"My number is \" + str(3))\n",
    "print(\"My number is %d\" % 3)\n",
    "print(\"My number is {}\".format(3))"
   ]
  },
  {
   "cell_type": "code",
   "execution_count": 6,
   "metadata": {},
   "outputs": [
    {
     "name": "stdout",
     "output_type": "stream",
     "text": [
      "<class 'int'>\n",
      "<class 'int'>\n",
      "<class 'float'>\n",
      "<class 'bool'>\n",
      "<class 'complex'>\n"
     ]
    }
   ],
   "source": [
    "print(type(1))\n",
    "print(type(11111111111111111111111111111111111111))\n",
    "print(type(3.14))\n",
    "print(type(True))\n",
    "print(type(3 + 4j))"
   ]
  },
  {
   "cell_type": "code",
   "execution_count": 7,
   "metadata": {},
   "outputs": [
    {
     "data": {
      "text/plain": [
       "1267650600228229401496703205376"
      ]
     },
     "execution_count": 7,
     "metadata": {},
     "output_type": "execute_result"
    }
   ],
   "source": [
    "2 ** 100"
   ]
  },
  {
   "cell_type": "code",
   "execution_count": 8,
   "metadata": {},
   "outputs": [
    {
     "data": {
      "text/plain": [
       "3.3333333333333335"
      ]
     },
     "execution_count": 8,
     "metadata": {},
     "output_type": "execute_result"
    }
   ],
   "source": [
    "10 / 3"
   ]
  },
  {
   "cell_type": "code",
   "execution_count": 9,
   "metadata": {},
   "outputs": [
    {
     "data": {
      "text/plain": [
       "3"
      ]
     },
     "execution_count": 9,
     "metadata": {},
     "output_type": "execute_result"
    }
   ],
   "source": [
    "10 // 3"
   ]
  },
  {
   "cell_type": "code",
   "execution_count": 10,
   "metadata": {},
   "outputs": [
    {
     "data": {
      "text/plain": [
       "3.3333333333333335"
      ]
     },
     "execution_count": 10,
     "metadata": {},
     "output_type": "execute_result"
    }
   ],
   "source": [
    "10 / 3.0"
   ]
  },
  {
   "cell_type": "code",
   "execution_count": 11,
   "metadata": {},
   "outputs": [
    {
     "data": {
      "text/plain": [
       "3.0"
      ]
     },
     "execution_count": 11,
     "metadata": {},
     "output_type": "execute_result"
    }
   ],
   "source": [
    "10 // 3.0"
   ]
  },
  {
   "cell_type": "code",
   "execution_count": 12,
   "metadata": {},
   "outputs": [
    {
     "data": {
      "text/plain": [
       "0.30000000000000004"
      ]
     },
     "execution_count": 12,
     "metadata": {},
     "output_type": "execute_result"
    }
   ],
   "source": [
    "0.1 + 0.2 # IEEE754"
   ]
  },
  {
   "cell_type": "code",
   "execution_count": 13,
   "metadata": {},
   "outputs": [
    {
     "data": {
      "text/plain": [
       "0.19999999999999996"
      ]
     },
     "execution_count": 13,
     "metadata": {},
     "output_type": "execute_result"
    }
   ],
   "source": [
    "1.0 - 0.8"
   ]
  },
  {
   "cell_type": "code",
   "execution_count": 14,
   "metadata": {},
   "outputs": [
    {
     "name": "stdout",
     "output_type": "stream",
     "text": [
      "0.3000000000000000166533453694\n",
      "<class 'decimal.Decimal'>\n",
      "0.3\n"
     ]
    }
   ],
   "source": [
    "import decimal\n",
    "a = decimal.Decimal(0.1)\n",
    "b = decimal.Decimal(0.2)\n",
    "\n",
    "c = decimal.Decimal('0.1')\n",
    "d = decimal.Decimal('0.2')\n",
    "\n",
    "print(a+b)\n",
    "print(type(a+b))\n",
    "print(c+d)"
   ]
  },
  {
   "cell_type": "markdown",
   "metadata": {},
   "source": [
    "### Boolean\n",
    "* True / False\n",
    "* The Boolean values\n",
    "\n",
    "|Example|Result|\n",
    "| --- | --- |\n",
    "|None, False, 0, 0.0, 0j, \"\"(Empty str), (), [], {}|False|\n",
    "|Others|True|"
   ]
  },
  {
   "cell_type": "markdown",
   "metadata": {},
   "source": [
    "字串型態（String type）\n",
    "----\n",
    "    str, 不可變（Immutable）\n",
    "\n",
    "    常用函數\n",
    "\n",
    "    len()\n",
    "    .find()\n",
    "    .upper()\n",
    "    .lower()\n",
    "    .split()\n",
    "    .replace()\n",
    "    \n",
    "    for ch in str, in \n",
    "\n",
    "### 逸出字元(跳脫字元)\n",
    "\n",
    "> Reference: https://python-reference.readthedocs.io/en/latest/docs/str/escapes.html"
   ]
  },
  {
   "cell_type": "code",
   "execution_count": 15,
   "metadata": {},
   "outputs": [
    {
     "name": "stdout",
     "output_type": "stream",
     "text": [
      "jasperlin\n"
     ]
    }
   ],
   "source": [
    "a = \"jasper\"\n",
    "b = \"lin\"\n",
    "\n",
    "print(a + b)"
   ]
  },
  {
   "cell_type": "code",
   "execution_count": 16,
   "metadata": {},
   "outputs": [
    {
     "name": "stdout",
     "output_type": "stream",
     "text": [
      "6\n"
     ]
    }
   ],
   "source": [
    "print(len(a))"
   ]
  },
  {
   "cell_type": "code",
   "execution_count": 17,
   "metadata": {},
   "outputs": [
    {
     "name": "stdout",
     "output_type": "stream",
     "text": [
      "j\n",
      "a\n",
      "s\n",
      "p\n",
      "e\n",
      "r\n"
     ]
    }
   ],
   "source": [
    "for char in a:\n",
    "    print(char)"
   ]
  },
  {
   "cell_type": "code",
   "execution_count": 18,
   "metadata": {},
   "outputs": [
    {
     "name": "stdout",
     "output_type": "stream",
     "text": [
      "j\n",
      "a\n",
      "s\n",
      "p\n",
      "e\n",
      "r\n",
      "l\n",
      "i\n",
      "n\n"
     ]
    }
   ],
   "source": [
    "for char in a+b:\n",
    "    print(char)"
   ]
  },
  {
   "cell_type": "code",
   "execution_count": 19,
   "metadata": {},
   "outputs": [
    {
     "name": "stdout",
     "output_type": "stream",
     "text": [
      "c:\todo\n",
      "c:\\todo\n"
     ]
    }
   ],
   "source": [
    "print('c:\\todo')\n",
    "print('c:\\\\todo')"
   ]
  },
  {
   "cell_type": "markdown",
   "metadata": {},
   "source": [
    "### Modules\n",
    "\n",
    "    import module_name [as alias]\n",
    "    from module_name import something in this module [as alias]\n",
    "    from module_name import *"
   ]
  },
  {
   "cell_type": "markdown",
   "metadata": {},
   "source": [
    "### HW1 複利大師\n",
    "\n",
    "> 輸入本金、利率以及 n，用 Python 幫我算過了 n 年後我總共會有多少錢\n",
    "\n",
    "本金: 40000\n",
    "\n",
    "利率: 0.07\n",
    "\n",
    "存幾年: 20\n",
    "\n",
    ">Output\n",
    "\n",
    "> 和: 154787.3784994471633294616126"
   ]
  }
 ],
 "metadata": {
  "kernelspec": {
   "display_name": "Python 3",
   "language": "python",
   "name": "python3"
  },
  "language_info": {
   "codemirror_mode": {
    "name": "ipython",
    "version": 3
   },
   "file_extension": ".py",
   "mimetype": "text/x-python",
   "name": "python",
   "nbconvert_exporter": "python",
   "pygments_lexer": "ipython3",
   "version": "3.6.1"
  }
 },
 "nbformat": 4,
 "nbformat_minor": 2
}
