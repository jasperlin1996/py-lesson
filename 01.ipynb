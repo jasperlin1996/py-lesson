{
 "cells": [
  {
   "cell_type": "markdown",
   "metadata": {},
   "source": [
    "Python\n",
    "=========\n",
    "Input:\n",
    "----\n",
    "var = input()\n",
    "\n",
    "Output:\n",
    "----\n",
    "print()"
   ]
  },
  {
   "cell_type": "code",
   "execution_count": 4,
   "metadata": {},
   "outputs": [
    {
     "name": "stdout",
     "output_type": "stream",
     "text": [
      "Hello world!\n"
     ]
    }
   ],
   "source": [
    "print(\"Hello world!\")"
   ]
  },
  {
   "cell_type": "code",
   "execution_count": 5,
   "metadata": {},
   "outputs": [
    {
     "data": {
      "text/plain": [
       "\"\\nfilename = input('檔名：')\\n\\nfile = open(filename, 'r', encoding='UTF-8')\\ncontent = file.read()\\nfile.close()\\n\\nprint(content)\\nprint(content.encode('UTF-8'))                 # 這是什麼？\\nprint(content.encode('UTF-8').decode('UTF-8'))\\n\""
      ]
     },
     "execution_count": 5,
     "metadata": {},
     "output_type": "execute_result"
    }
   ],
   "source": [
    "'''\n",
    "filename = input('檔名：')\n",
    "\n",
    "file = open(filename, 'r', encoding='UTF-8')\n",
    "content = file.read()\n",
    "file.close()\n",
    "\n",
    "print(content)\n",
    "print(content.encode('UTF-8'))                 # 這是什麼？\n",
    "print(content.encode('UTF-8').decode('UTF-8'))\n",
    "'''"
   ]
  },
  {
   "cell_type": "markdown",
   "metadata": {},
   "source": [
    "type, dir, help\n",
    "------"
   ]
  },
  {
   "cell_type": "markdown",
   "metadata": {},
   "source": [
    "數值型態（Numeric type）\n",
    "----\n",
    "int, long, float, bool, complex (long type does not exist in python 3.x)\n"
   ]
  },
  {
   "cell_type": "code",
   "execution_count": 6,
   "metadata": {},
   "outputs": [
    {
     "name": "stdout",
     "output_type": "stream",
     "text": [
      "<class 'int'>\n",
      "<class 'int'>\n",
      "<class 'float'>\n",
      "<class 'bool'>\n",
      "<class 'complex'>\n"
     ]
    }
   ],
   "source": [
    "print(type(1))\n",
    "print(type(11111111111111111111111111111111111111))\n",
    "print(type(3.14))\n",
    "print(type(True))\n",
    "print(type(3 + 4j))"
   ]
  },
  {
   "cell_type": "code",
   "execution_count": 7,
   "metadata": {},
   "outputs": [
    {
     "data": {
      "text/plain": [
       "1267650600228229401496703205376"
      ]
     },
     "execution_count": 7,
     "metadata": {},
     "output_type": "execute_result"
    }
   ],
   "source": [
    "2 ** 100"
   ]
  },
  {
   "cell_type": "code",
   "execution_count": 8,
   "metadata": {},
   "outputs": [
    {
     "data": {
      "text/plain": [
       "3.3333333333333335"
      ]
     },
     "execution_count": 8,
     "metadata": {},
     "output_type": "execute_result"
    }
   ],
   "source": [
    "10 / 3"
   ]
  },
  {
   "cell_type": "code",
   "execution_count": 9,
   "metadata": {},
   "outputs": [
    {
     "data": {
      "text/plain": [
       "3"
      ]
     },
     "execution_count": 9,
     "metadata": {},
     "output_type": "execute_result"
    }
   ],
   "source": [
    "10 // 3"
   ]
  },
  {
   "cell_type": "code",
   "execution_count": 10,
   "metadata": {},
   "outputs": [
    {
     "data": {
      "text/plain": [
       "3.3333333333333335"
      ]
     },
     "execution_count": 10,
     "metadata": {},
     "output_type": "execute_result"
    }
   ],
   "source": [
    "10 / 3.0"
   ]
  },
  {
   "cell_type": "code",
   "execution_count": 11,
   "metadata": {},
   "outputs": [
    {
     "data": {
      "text/plain": [
       "3.0"
      ]
     },
     "execution_count": 11,
     "metadata": {},
     "output_type": "execute_result"
    }
   ],
   "source": [
    "10 // 3.0"
   ]
  },
  {
   "cell_type": "code",
   "execution_count": 12,
   "metadata": {},
   "outputs": [
    {
     "data": {
      "text/plain": [
       "0.30000000000000004"
      ]
     },
     "execution_count": 12,
     "metadata": {},
     "output_type": "execute_result"
    }
   ],
   "source": [
    "0.1 + 0.2 # IEEE754"
   ]
  },
  {
   "cell_type": "code",
   "execution_count": 13,
   "metadata": {},
   "outputs": [
    {
     "data": {
      "text/plain": [
       "0.19999999999999996"
      ]
     },
     "execution_count": 13,
     "metadata": {},
     "output_type": "execute_result"
    }
   ],
   "source": [
    "1.0 - 0.8"
   ]
  },
  {
   "cell_type": "code",
   "execution_count": 14,
   "metadata": {},
   "outputs": [
    {
     "name": "stdout",
     "output_type": "stream",
     "text": [
      "0.3000000000000000166533453694\n",
      "<class 'decimal.Decimal'>\n",
      "0.3\n"
     ]
    }
   ],
   "source": [
    "import decimal\n",
    "a = decimal.Decimal(0.1)\n",
    "b = decimal.Decimal(0.2)\n",
    "\n",
    "c = decimal.Decimal('0.1')\n",
    "d = decimal.Decimal('0.2')\n",
    "\n",
    "print(a+b)\n",
    "print(type(a+b))\n",
    "print(c+d)"
   ]
  },
  {
   "cell_type": "markdown",
   "metadata": {},
   "source": [
    "字串型態（String type）\n",
    "----\n",
    "str \n",
    "\n",
    "不可變（Immutable）\n",
    "\n",
    "常用函數\n",
    "\n",
    "len, for ch in str, in \n",
    "\n",
    "跳脫字元(逸出字元)\n",
    "\n",
    "Reference: https://python-reference.readthedocs.io/en/latest/docs/str/escapes.html"
   ]
  },
  {
   "cell_type": "code",
   "execution_count": 15,
   "metadata": {},
   "outputs": [
    {
     "name": "stdout",
     "output_type": "stream",
     "text": [
      "jasperlin\n"
     ]
    }
   ],
   "source": [
    "a = \"jasper\"\n",
    "b = \"lin\"\n",
    "\n",
    "print(a + b)"
   ]
  },
  {
   "cell_type": "code",
   "execution_count": 16,
   "metadata": {},
   "outputs": [
    {
     "name": "stdout",
     "output_type": "stream",
     "text": [
      "6\n"
     ]
    }
   ],
   "source": [
    "print(len(a))"
   ]
  },
  {
   "cell_type": "code",
   "execution_count": 17,
   "metadata": {},
   "outputs": [
    {
     "name": "stdout",
     "output_type": "stream",
     "text": [
      "j\n",
      "a\n",
      "s\n",
      "p\n",
      "e\n",
      "r\n"
     ]
    }
   ],
   "source": [
    "for char in a:\n",
    "    print(char)"
   ]
  },
  {
   "cell_type": "code",
   "execution_count": 18,
   "metadata": {},
   "outputs": [
    {
     "name": "stdout",
     "output_type": "stream",
     "text": [
      "j\n",
      "a\n",
      "s\n",
      "p\n",
      "e\n",
      "r\n",
      "l\n",
      "i\n",
      "n\n"
     ]
    }
   ],
   "source": [
    "for char in a+b:\n",
    "    print(char)"
   ]
  },
  {
   "cell_type": "code",
   "execution_count": 19,
   "metadata": {},
   "outputs": [
    {
     "name": "stdout",
     "output_type": "stream",
     "text": [
      "c:\todo\n",
      "c:\\todo\n"
     ]
    }
   ],
   "source": [
    "print('c:\\todo')\n",
    "print('c:\\\\todo')"
   ]
  },
  {
   "cell_type": "markdown",
   "metadata": {},
   "source": [
    "容器型態（Container type）\n",
    "----\n",
    "list, (set, dict, tuple TBC)"
   ]
  },
  {
   "cell_type": "code",
   "execution_count": 20,
   "metadata": {},
   "outputs": [
    {
     "name": "stdout",
     "output_type": "stream",
     "text": [
      "[1, 2, 3, 4, 20, 1, 3, 5]\n"
     ]
    }
   ],
   "source": [
    "# define lists\n",
    "L = [1,2,3,4]\n",
    "I = [20,1,3,5]\n",
    "# list addition (\"NO\" Subtraction, multiplication, division)\n",
    "print(L + I)"
   ]
  },
  {
   "cell_type": "markdown",
   "metadata": {},
   "source": []
  },
  {
   "cell_type": "markdown",
   "metadata": {},
   "source": []
  }
 ],
 "metadata": {
  "kernelspec": {
   "display_name": "Python 3",
   "language": "python",
   "name": "python3"
  },
  "language_info": {
   "codemirror_mode": {
    "name": "ipython",
    "version": 3
   },
   "file_extension": ".py",
   "mimetype": "text/x-python",
   "name": "python",
   "nbconvert_exporter": "python",
   "pygments_lexer": "ipython3",
   "version": "3.6.1"
  }
 },
 "nbformat": 4,
 "nbformat_minor": 2
}
